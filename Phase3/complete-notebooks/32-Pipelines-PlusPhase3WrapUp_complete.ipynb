{
 "cells": [
  {
   "cell_type": "markdown",
   "metadata": {},
   "source": [
    "# Exploring Pipelines and Wrapping Up Phase 3"
   ]
  },
  {
   "cell_type": "markdown",
   "metadata": {},
   "source": [
    "## Why Pipeline?\n",
    "\n",
    "Pipelines can keep our code neat and clean all the way from gathering & cleaning our data, to creating models & fine-tuning them!\n",
    "\n",
    "**Advantages**: \n",
    "- Reduces complexity\n",
    "- Convenient \n",
    "- Flexible \n",
    "- Can help prevent mistakes (like data leakage between train and test set) "
   ]
  },
  {
   "cell_type": "markdown",
   "metadata": {},
   "source": [
    "Easily integrate transformers and estimators, plus cross validation!\n",
    "\n",
    "<img src=\"images/grid_search_cross_validation.png\" alt=\"cross validation image from sklearn's documentation\" width=500>\n",
    "\n",
    "Why might CV be good in instances when we're doing things like searching for optimal hyperparameters...?\n",
    "\n",
    "- \n"
   ]
  },
  {
   "cell_type": "code",
   "execution_count": 1,
   "metadata": {},
   "outputs": [],
   "source": [
    "# Imports\n",
    "import pandas as pd\n",
    "import numpy as np\n",
    "\n",
    "import matplotlib.pyplot as plt\n",
    "\n",
    "from sklearn.pipeline import Pipeline\n",
    "from sklearn.compose import ColumnTransformer\n",
    "from sklearn.impute import SimpleImputer\n",
    "from sklearn.preprocessing import MinMaxScaler, OneHotEncoder, StandardScaler\n",
    "from sklearn.linear_model import LogisticRegression\n",
    "from sklearn.tree import DecisionTreeClassifier\n",
    "from sklearn.model_selection import train_test_split, GridSearchCV, cross_val_score\n",
    "from sklearn.metrics import accuracy_score, f1_score, roc_auc_score, plot_confusion_matrix\n",
    "\n",
    "import category_encoders as ce"
   ]
  },
  {
   "cell_type": "code",
   "execution_count": 2,
   "metadata": {},
   "outputs": [],
   "source": [
    "# May need to install category_encoders if you'd like to use it:\n",
    "# !conda install -c conda-forge category_encoders"
   ]
  },
  {
   "cell_type": "code",
   "execution_count": 3,
   "metadata": {},
   "outputs": [],
   "source": [
    "def evaluate(estimator, X_train, X_test, y_train, y_test, use_decision_function='yes'):\n",
    "    '''\n",
    "    Evaluation function to show a few scores for both the train and test set\n",
    "    Also shows a confusion matrix for the test set\n",
    "    \n",
    "    use_decision_function allows you to toggle whether you use decision_function or\n",
    "    predict_proba in order to get the output needed for roc_auc_score\n",
    "    If use_decision_function == 'skip', then it ignores calculating the roc_auc_score\n",
    "    '''\n",
    "    # grab predictions\n",
    "    train_preds = estimator.predict(X_train)\n",
    "    test_preds = estimator.predict(X_test)\n",
    "    \n",
    "    # output needed for roc_auc_score\n",
    "    if use_decision_function == 'skip': # skips calculating the roc_auc_score\n",
    "        train_out = False\n",
    "        test_out = False\n",
    "    elif use_decision_function == 'yes': # not all classifiers have decision_function\n",
    "        train_out = estimator.decision_function(X_train)\n",
    "        test_out = estimator.decision_function(X_test)\n",
    "    elif use_decision_function == 'no':\n",
    "        train_out = estimator.predict_proba(X_train)[:, 1] # proba for the 1 class\n",
    "        test_out = estimator.predict_proba(X_test)[:, 1]\n",
    "    else:\n",
    "        raise Exception (\"The value for use_decision_function should be 'skip', 'yes' or 'no'.\")\n",
    "\n",
    "    print(type(test_out))\n",
    "    \n",
    "    # print scores\n",
    "    print(\"Train Scores\")\n",
    "    print(\"------------\")\n",
    "    print(f\"Accuracy: {accuracy_score(y_train, train_preds)}\")\n",
    "    print(f\"F1 Score: {f1_score(y_train, train_preds)}\")\n",
    "    if type(train_out) == np.ndarray:\n",
    "        print(f\"ROC-AUC: {roc_auc_score(y_train, train_out)}\")\n",
    "    print(\"----\" * 5)\n",
    "    print(\"Test Scores\")\n",
    "    print(\"-----------\")\n",
    "    print(f\"Accuracy: {accuracy_score(y_test, test_preds)}\")\n",
    "    print(f\"F1 Score: {f1_score(y_test, test_preds)}\")\n",
    "    if type(test_out) == np.ndarray:\n",
    "        print(f\"ROC-AUC: {roc_auc_score(y_test, test_out)}\")\n",
    "    \n",
    "    # plot test confusion matrix\n",
    "    plot_confusion_matrix(estimator, X_test, y_test)\n",
    "    plt.show()"
   ]
  },
  {
   "cell_type": "markdown",
   "metadata": {},
   "source": [
    "Data source: https://www.kaggle.com/c/cat-in-the-dat-ii"
   ]
  },
  {
   "cell_type": "code",
   "execution_count": 12,
   "metadata": {},
   "outputs": [],
   "source": [
    "import sys\n",
    "sys.path.append(r'/Users/hudakassoumeh/Documents/Flatiron/repo/Online-DS-PT-092820/Phase3/data')"
   ]
  },
  {
   "cell_type": "code",
   "execution_count": 14,
   "metadata": {},
   "outputs": [],
   "source": [
    "# Grab, then explore data\n",
    "df = pd.read_csv('/Users/hudakassoumeh/Documents/Flatiron/repo/Online-DS-PT-092820/Phase3/data/cat_in_the_dat2_train.csv', index_col='id')\n"
   ]
  },
  {
   "cell_type": "code",
   "execution_count": 15,
   "metadata": {},
   "outputs": [
    {
     "data": {
      "text/html": [
       "<div>\n",
       "<style scoped>\n",
       "    .dataframe tbody tr th:only-of-type {\n",
       "        vertical-align: middle;\n",
       "    }\n",
       "\n",
       "    .dataframe tbody tr th {\n",
       "        vertical-align: top;\n",
       "    }\n",
       "\n",
       "    .dataframe thead th {\n",
       "        text-align: right;\n",
       "    }\n",
       "</style>\n",
       "<table border=\"1\" class=\"dataframe\">\n",
       "  <thead>\n",
       "    <tr style=\"text-align: right;\">\n",
       "      <th></th>\n",
       "      <th>bin_0</th>\n",
       "      <th>bin_1</th>\n",
       "      <th>bin_2</th>\n",
       "      <th>bin_3</th>\n",
       "      <th>bin_4</th>\n",
       "      <th>nom_0</th>\n",
       "      <th>nom_1</th>\n",
       "      <th>nom_2</th>\n",
       "      <th>nom_3</th>\n",
       "      <th>nom_4</th>\n",
       "      <th>...</th>\n",
       "      <th>nom_9</th>\n",
       "      <th>ord_0</th>\n",
       "      <th>ord_1</th>\n",
       "      <th>ord_2</th>\n",
       "      <th>ord_3</th>\n",
       "      <th>ord_4</th>\n",
       "      <th>ord_5</th>\n",
       "      <th>day</th>\n",
       "      <th>month</th>\n",
       "      <th>target</th>\n",
       "    </tr>\n",
       "    <tr>\n",
       "      <th>id</th>\n",
       "      <th></th>\n",
       "      <th></th>\n",
       "      <th></th>\n",
       "      <th></th>\n",
       "      <th></th>\n",
       "      <th></th>\n",
       "      <th></th>\n",
       "      <th></th>\n",
       "      <th></th>\n",
       "      <th></th>\n",
       "      <th></th>\n",
       "      <th></th>\n",
       "      <th></th>\n",
       "      <th></th>\n",
       "      <th></th>\n",
       "      <th></th>\n",
       "      <th></th>\n",
       "      <th></th>\n",
       "      <th></th>\n",
       "      <th></th>\n",
       "      <th></th>\n",
       "    </tr>\n",
       "  </thead>\n",
       "  <tbody>\n",
       "    <tr>\n",
       "      <th>0</th>\n",
       "      <td>0.0</td>\n",
       "      <td>0.0</td>\n",
       "      <td>0.0</td>\n",
       "      <td>F</td>\n",
       "      <td>N</td>\n",
       "      <td>Red</td>\n",
       "      <td>Trapezoid</td>\n",
       "      <td>Hamster</td>\n",
       "      <td>Russia</td>\n",
       "      <td>Bassoon</td>\n",
       "      <td>...</td>\n",
       "      <td>02e7c8990</td>\n",
       "      <td>3.0</td>\n",
       "      <td>Contributor</td>\n",
       "      <td>Hot</td>\n",
       "      <td>c</td>\n",
       "      <td>U</td>\n",
       "      <td>Pw</td>\n",
       "      <td>6.0</td>\n",
       "      <td>3.0</td>\n",
       "      <td>0</td>\n",
       "    </tr>\n",
       "    <tr>\n",
       "      <th>1</th>\n",
       "      <td>1.0</td>\n",
       "      <td>1.0</td>\n",
       "      <td>0.0</td>\n",
       "      <td>F</td>\n",
       "      <td>Y</td>\n",
       "      <td>Red</td>\n",
       "      <td>Star</td>\n",
       "      <td>Axolotl</td>\n",
       "      <td>NaN</td>\n",
       "      <td>Theremin</td>\n",
       "      <td>...</td>\n",
       "      <td>f37df64af</td>\n",
       "      <td>3.0</td>\n",
       "      <td>Grandmaster</td>\n",
       "      <td>Warm</td>\n",
       "      <td>e</td>\n",
       "      <td>X</td>\n",
       "      <td>pE</td>\n",
       "      <td>7.0</td>\n",
       "      <td>7.0</td>\n",
       "      <td>0</td>\n",
       "    </tr>\n",
       "    <tr>\n",
       "      <th>2</th>\n",
       "      <td>0.0</td>\n",
       "      <td>1.0</td>\n",
       "      <td>0.0</td>\n",
       "      <td>F</td>\n",
       "      <td>N</td>\n",
       "      <td>Red</td>\n",
       "      <td>NaN</td>\n",
       "      <td>Hamster</td>\n",
       "      <td>Canada</td>\n",
       "      <td>Bassoon</td>\n",
       "      <td>...</td>\n",
       "      <td>NaN</td>\n",
       "      <td>3.0</td>\n",
       "      <td>NaN</td>\n",
       "      <td>Freezing</td>\n",
       "      <td>n</td>\n",
       "      <td>P</td>\n",
       "      <td>eN</td>\n",
       "      <td>5.0</td>\n",
       "      <td>9.0</td>\n",
       "      <td>0</td>\n",
       "    </tr>\n",
       "    <tr>\n",
       "      <th>3</th>\n",
       "      <td>NaN</td>\n",
       "      <td>0.0</td>\n",
       "      <td>0.0</td>\n",
       "      <td>F</td>\n",
       "      <td>N</td>\n",
       "      <td>Red</td>\n",
       "      <td>Circle</td>\n",
       "      <td>Hamster</td>\n",
       "      <td>Finland</td>\n",
       "      <td>Theremin</td>\n",
       "      <td>...</td>\n",
       "      <td>f9d456e57</td>\n",
       "      <td>1.0</td>\n",
       "      <td>Novice</td>\n",
       "      <td>Lava Hot</td>\n",
       "      <td>a</td>\n",
       "      <td>C</td>\n",
       "      <td>NaN</td>\n",
       "      <td>3.0</td>\n",
       "      <td>3.0</td>\n",
       "      <td>0</td>\n",
       "    </tr>\n",
       "    <tr>\n",
       "      <th>4</th>\n",
       "      <td>0.0</td>\n",
       "      <td>NaN</td>\n",
       "      <td>0.0</td>\n",
       "      <td>T</td>\n",
       "      <td>N</td>\n",
       "      <td>Red</td>\n",
       "      <td>Triangle</td>\n",
       "      <td>Hamster</td>\n",
       "      <td>Costa Rica</td>\n",
       "      <td>NaN</td>\n",
       "      <td>...</td>\n",
       "      <td>c5361037c</td>\n",
       "      <td>3.0</td>\n",
       "      <td>Grandmaster</td>\n",
       "      <td>Cold</td>\n",
       "      <td>h</td>\n",
       "      <td>C</td>\n",
       "      <td>OZ</td>\n",
       "      <td>5.0</td>\n",
       "      <td>12.0</td>\n",
       "      <td>0</td>\n",
       "    </tr>\n",
       "  </tbody>\n",
       "</table>\n",
       "<p>5 rows × 24 columns</p>\n",
       "</div>"
      ],
      "text/plain": [
       "    bin_0  bin_1  bin_2 bin_3 bin_4 nom_0      nom_1    nom_2       nom_3  \\\n",
       "id                                                                          \n",
       "0     0.0    0.0    0.0     F     N   Red  Trapezoid  Hamster      Russia   \n",
       "1     1.0    1.0    0.0     F     Y   Red       Star  Axolotl         NaN   \n",
       "2     0.0    1.0    0.0     F     N   Red        NaN  Hamster      Canada   \n",
       "3     NaN    0.0    0.0     F     N   Red     Circle  Hamster     Finland   \n",
       "4     0.0    NaN    0.0     T     N   Red   Triangle  Hamster  Costa Rica   \n",
       "\n",
       "       nom_4  ...      nom_9 ord_0        ord_1     ord_2 ord_3  ord_4 ord_5  \\\n",
       "id            ...                                                              \n",
       "0    Bassoon  ...  02e7c8990   3.0  Contributor       Hot     c      U    Pw   \n",
       "1   Theremin  ...  f37df64af   3.0  Grandmaster      Warm     e      X    pE   \n",
       "2    Bassoon  ...        NaN   3.0          NaN  Freezing     n      P    eN   \n",
       "3   Theremin  ...  f9d456e57   1.0       Novice  Lava Hot     a      C   NaN   \n",
       "4        NaN  ...  c5361037c   3.0  Grandmaster      Cold     h      C    OZ   \n",
       "\n",
       "    day month target  \n",
       "id                    \n",
       "0   6.0   3.0      0  \n",
       "1   7.0   7.0      0  \n",
       "2   5.0   9.0      0  \n",
       "3   3.0   3.0      0  \n",
       "4   5.0  12.0      0  \n",
       "\n",
       "[5 rows x 24 columns]"
      ]
     },
     "execution_count": 15,
     "metadata": {},
     "output_type": "execute_result"
    }
   ],
   "source": [
    "df.head()"
   ]
  },
  {
   "cell_type": "code",
   "execution_count": 16,
   "metadata": {},
   "outputs": [
    {
     "name": "stdout",
     "output_type": "stream",
     "text": [
      "<class 'pandas.core.frame.DataFrame'>\n",
      "Int64Index: 600000 entries, 0 to 599999\n",
      "Data columns (total 24 columns):\n",
      " #   Column  Non-Null Count   Dtype  \n",
      "---  ------  --------------   -----  \n",
      " 0   bin_0   582106 non-null  float64\n",
      " 1   bin_1   581997 non-null  float64\n",
      " 2   bin_2   582070 non-null  float64\n",
      " 3   bin_3   581986 non-null  object \n",
      " 4   bin_4   581953 non-null  object \n",
      " 5   nom_0   581748 non-null  object \n",
      " 6   nom_1   581844 non-null  object \n",
      " 7   nom_2   581965 non-null  object \n",
      " 8   nom_3   581879 non-null  object \n",
      " 9   nom_4   581965 non-null  object \n",
      " 10  nom_5   582222 non-null  object \n",
      " 11  nom_6   581869 non-null  object \n",
      " 12  nom_7   581997 non-null  object \n",
      " 13  nom_8   582245 non-null  object \n",
      " 14  nom_9   581927 non-null  object \n",
      " 15  ord_0   581712 non-null  float64\n",
      " 16  ord_1   581959 non-null  object \n",
      " 17  ord_2   581925 non-null  object \n",
      " 18  ord_3   582084 non-null  object \n",
      " 19  ord_4   582070 non-null  object \n",
      " 20  ord_5   582287 non-null  object \n",
      " 21  day     582048 non-null  float64\n",
      " 22  month   582012 non-null  float64\n",
      " 23  target  600000 non-null  int64  \n",
      "dtypes: float64(6), int64(1), object(17)\n",
      "memory usage: 114.4+ MB\n"
     ]
    }
   ],
   "source": [
    "df.info()"
   ]
  },
  {
   "cell_type": "code",
   "execution_count": 17,
   "metadata": {},
   "outputs": [
    {
     "data": {
      "text/html": [
       "<div>\n",
       "<style scoped>\n",
       "    .dataframe tbody tr th:only-of-type {\n",
       "        vertical-align: middle;\n",
       "    }\n",
       "\n",
       "    .dataframe tbody tr th {\n",
       "        vertical-align: top;\n",
       "    }\n",
       "\n",
       "    .dataframe thead th {\n",
       "        text-align: right;\n",
       "    }\n",
       "</style>\n",
       "<table border=\"1\" class=\"dataframe\">\n",
       "  <thead>\n",
       "    <tr style=\"text-align: right;\">\n",
       "      <th></th>\n",
       "      <th>bin_0</th>\n",
       "      <th>bin_1</th>\n",
       "      <th>bin_2</th>\n",
       "      <th>ord_0</th>\n",
       "      <th>day</th>\n",
       "      <th>month</th>\n",
       "      <th>target</th>\n",
       "    </tr>\n",
       "  </thead>\n",
       "  <tbody>\n",
       "    <tr>\n",
       "      <th>count</th>\n",
       "      <td>582106.000000</td>\n",
       "      <td>581997.000000</td>\n",
       "      <td>582070.000000</td>\n",
       "      <td>581712.000000</td>\n",
       "      <td>582048.000000</td>\n",
       "      <td>582012.000000</td>\n",
       "      <td>600000.000000</td>\n",
       "    </tr>\n",
       "    <tr>\n",
       "      <th>mean</th>\n",
       "      <td>0.092301</td>\n",
       "      <td>0.185532</td>\n",
       "      <td>0.278704</td>\n",
       "      <td>1.948224</td>\n",
       "      <td>4.112767</td>\n",
       "      <td>6.371317</td>\n",
       "      <td>0.187205</td>\n",
       "    </tr>\n",
       "    <tr>\n",
       "      <th>std</th>\n",
       "      <td>0.289451</td>\n",
       "      <td>0.388729</td>\n",
       "      <td>0.448362</td>\n",
       "      <td>0.853904</td>\n",
       "      <td>2.034430</td>\n",
       "      <td>3.458959</td>\n",
       "      <td>0.390076</td>\n",
       "    </tr>\n",
       "    <tr>\n",
       "      <th>min</th>\n",
       "      <td>0.000000</td>\n",
       "      <td>0.000000</td>\n",
       "      <td>0.000000</td>\n",
       "      <td>1.000000</td>\n",
       "      <td>1.000000</td>\n",
       "      <td>1.000000</td>\n",
       "      <td>0.000000</td>\n",
       "    </tr>\n",
       "    <tr>\n",
       "      <th>25%</th>\n",
       "      <td>0.000000</td>\n",
       "      <td>0.000000</td>\n",
       "      <td>0.000000</td>\n",
       "      <td>1.000000</td>\n",
       "      <td>2.000000</td>\n",
       "      <td>3.000000</td>\n",
       "      <td>0.000000</td>\n",
       "    </tr>\n",
       "    <tr>\n",
       "      <th>50%</th>\n",
       "      <td>0.000000</td>\n",
       "      <td>0.000000</td>\n",
       "      <td>0.000000</td>\n",
       "      <td>2.000000</td>\n",
       "      <td>5.000000</td>\n",
       "      <td>6.000000</td>\n",
       "      <td>0.000000</td>\n",
       "    </tr>\n",
       "    <tr>\n",
       "      <th>75%</th>\n",
       "      <td>0.000000</td>\n",
       "      <td>0.000000</td>\n",
       "      <td>1.000000</td>\n",
       "      <td>3.000000</td>\n",
       "      <td>6.000000</td>\n",
       "      <td>8.000000</td>\n",
       "      <td>0.000000</td>\n",
       "    </tr>\n",
       "    <tr>\n",
       "      <th>max</th>\n",
       "      <td>1.000000</td>\n",
       "      <td>1.000000</td>\n",
       "      <td>1.000000</td>\n",
       "      <td>3.000000</td>\n",
       "      <td>7.000000</td>\n",
       "      <td>12.000000</td>\n",
       "      <td>1.000000</td>\n",
       "    </tr>\n",
       "  </tbody>\n",
       "</table>\n",
       "</div>"
      ],
      "text/plain": [
       "               bin_0          bin_1          bin_2          ord_0  \\\n",
       "count  582106.000000  581997.000000  582070.000000  581712.000000   \n",
       "mean        0.092301       0.185532       0.278704       1.948224   \n",
       "std         0.289451       0.388729       0.448362       0.853904   \n",
       "min         0.000000       0.000000       0.000000       1.000000   \n",
       "25%         0.000000       0.000000       0.000000       1.000000   \n",
       "50%         0.000000       0.000000       0.000000       2.000000   \n",
       "75%         0.000000       0.000000       1.000000       3.000000   \n",
       "max         1.000000       1.000000       1.000000       3.000000   \n",
       "\n",
       "                 day          month         target  \n",
       "count  582048.000000  582012.000000  600000.000000  \n",
       "mean        4.112767       6.371317       0.187205  \n",
       "std         2.034430       3.458959       0.390076  \n",
       "min         1.000000       1.000000       0.000000  \n",
       "25%         2.000000       3.000000       0.000000  \n",
       "50%         5.000000       6.000000       0.000000  \n",
       "75%         6.000000       8.000000       0.000000  \n",
       "max         7.000000      12.000000       1.000000  "
      ]
     },
     "execution_count": 17,
     "metadata": {},
     "output_type": "execute_result"
    }
   ],
   "source": [
    "# Exploring numeric cols\n",
    "df.describe()"
   ]
  },
  {
   "cell_type": "code",
   "execution_count": 18,
   "metadata": {},
   "outputs": [
    {
     "data": {
      "text/plain": [
       "count     581748\n",
       "unique         3\n",
       "top          Red\n",
       "freq      323286\n",
       "Name: nom_0, dtype: object"
      ]
     },
     "execution_count": 18,
     "metadata": {},
     "output_type": "execute_result"
    }
   ],
   "source": [
    "df['nom_0'].describe()"
   ]
  },
  {
   "cell_type": "code",
   "execution_count": 19,
   "metadata": {},
   "outputs": [
    {
     "data": {
      "text/html": [
       "<div>\n",
       "<style scoped>\n",
       "    .dataframe tbody tr th:only-of-type {\n",
       "        vertical-align: middle;\n",
       "    }\n",
       "\n",
       "    .dataframe tbody tr th {\n",
       "        vertical-align: top;\n",
       "    }\n",
       "\n",
       "    .dataframe thead th {\n",
       "        text-align: right;\n",
       "    }\n",
       "</style>\n",
       "<table border=\"1\" class=\"dataframe\">\n",
       "  <thead>\n",
       "    <tr style=\"text-align: right;\">\n",
       "      <th></th>\n",
       "      <th>bin_3</th>\n",
       "      <th>bin_4</th>\n",
       "      <th>nom_0</th>\n",
       "      <th>nom_1</th>\n",
       "      <th>nom_2</th>\n",
       "      <th>nom_3</th>\n",
       "      <th>nom_4</th>\n",
       "      <th>nom_5</th>\n",
       "      <th>nom_6</th>\n",
       "      <th>nom_7</th>\n",
       "      <th>nom_8</th>\n",
       "      <th>nom_9</th>\n",
       "      <th>ord_1</th>\n",
       "      <th>ord_2</th>\n",
       "      <th>ord_3</th>\n",
       "      <th>ord_4</th>\n",
       "      <th>ord_5</th>\n",
       "    </tr>\n",
       "  </thead>\n",
       "  <tbody>\n",
       "    <tr>\n",
       "      <th>count</th>\n",
       "      <td>581986</td>\n",
       "      <td>581953</td>\n",
       "      <td>581748</td>\n",
       "      <td>581844</td>\n",
       "      <td>581965</td>\n",
       "      <td>581879</td>\n",
       "      <td>581965</td>\n",
       "      <td>582222</td>\n",
       "      <td>581869</td>\n",
       "      <td>581997</td>\n",
       "      <td>582245</td>\n",
       "      <td>581927</td>\n",
       "      <td>581959</td>\n",
       "      <td>581925</td>\n",
       "      <td>582084</td>\n",
       "      <td>582070</td>\n",
       "      <td>582287</td>\n",
       "    </tr>\n",
       "    <tr>\n",
       "      <th>unique</th>\n",
       "      <td>2</td>\n",
       "      <td>2</td>\n",
       "      <td>3</td>\n",
       "      <td>6</td>\n",
       "      <td>6</td>\n",
       "      <td>6</td>\n",
       "      <td>4</td>\n",
       "      <td>1220</td>\n",
       "      <td>1519</td>\n",
       "      <td>222</td>\n",
       "      <td>222</td>\n",
       "      <td>2218</td>\n",
       "      <td>5</td>\n",
       "      <td>6</td>\n",
       "      <td>15</td>\n",
       "      <td>26</td>\n",
       "      <td>190</td>\n",
       "    </tr>\n",
       "    <tr>\n",
       "      <th>top</th>\n",
       "      <td>F</td>\n",
       "      <td>N</td>\n",
       "      <td>Red</td>\n",
       "      <td>Triangle</td>\n",
       "      <td>Hamster</td>\n",
       "      <td>India</td>\n",
       "      <td>Theremin</td>\n",
       "      <td>fc8fc7e56</td>\n",
       "      <td>ea8c5e181</td>\n",
       "      <td>4ae48e857</td>\n",
       "      <td>7d7c02c57</td>\n",
       "      <td>8f3276a6e</td>\n",
       "      <td>Novice</td>\n",
       "      <td>Freezing</td>\n",
       "      <td>n</td>\n",
       "      <td>N</td>\n",
       "      <td>Fl</td>\n",
       "    </tr>\n",
       "    <tr>\n",
       "      <th>freq</th>\n",
       "      <td>366212</td>\n",
       "      <td>312344</td>\n",
       "      <td>323286</td>\n",
       "      <td>164190</td>\n",
       "      <td>164897</td>\n",
       "      <td>164869</td>\n",
       "      <td>308621</td>\n",
       "      <td>977</td>\n",
       "      <td>805</td>\n",
       "      <td>5035</td>\n",
       "      <td>5052</td>\n",
       "      <td>565</td>\n",
       "      <td>160597</td>\n",
       "      <td>142726</td>\n",
       "      <td>70982</td>\n",
       "      <td>39978</td>\n",
       "      <td>10562</td>\n",
       "    </tr>\n",
       "  </tbody>\n",
       "</table>\n",
       "</div>"
      ],
      "text/plain": [
       "         bin_3   bin_4   nom_0     nom_1    nom_2   nom_3     nom_4  \\\n",
       "count   581986  581953  581748    581844   581965  581879    581965   \n",
       "unique       2       2       3         6        6       6         4   \n",
       "top          F       N     Red  Triangle  Hamster   India  Theremin   \n",
       "freq    366212  312344  323286    164190   164897  164869    308621   \n",
       "\n",
       "            nom_5      nom_6      nom_7      nom_8      nom_9   ord_1  \\\n",
       "count      582222     581869     581997     582245     581927  581959   \n",
       "unique       1220       1519        222        222       2218       5   \n",
       "top     fc8fc7e56  ea8c5e181  4ae48e857  7d7c02c57  8f3276a6e  Novice   \n",
       "freq          977        805       5035       5052        565  160597   \n",
       "\n",
       "           ord_2   ord_3   ord_4   ord_5  \n",
       "count     581925  582084  582070  582287  \n",
       "unique         6      15      26     190  \n",
       "top     Freezing       n       N      Fl  \n",
       "freq      142726   70982   39978   10562  "
      ]
     },
     "execution_count": 19,
     "metadata": {},
     "output_type": "execute_result"
    }
   ],
   "source": [
    "# Exploring object cols\n",
    "df[[c for c in df.columns if df[c].dtype == 'object']].describe()"
   ]
  },
  {
   "cell_type": "code",
   "execution_count": 20,
   "metadata": {},
   "outputs": [
    {
     "data": {
      "text/plain": [
       "array(['Hot', 'Warm', 'Freezing', 'Lava Hot', 'Cold', 'Boiling Hot', nan],\n",
       "      dtype=object)"
      ]
     },
     "execution_count": 20,
     "metadata": {},
     "output_type": "execute_result"
    }
   ],
   "source": [
    "df['ord_2'].unique()"
   ]
  },
  {
   "cell_type": "code",
   "execution_count": 21,
   "metadata": {},
   "outputs": [
    {
     "data": {
      "text/plain": [
       "0    0.812795\n",
       "1    0.187205\n",
       "Name: target, dtype: float64"
      ]
     },
     "execution_count": 21,
     "metadata": {},
     "output_type": "execute_result"
    }
   ],
   "source": [
    "# Exploring target distribution\n",
    "df['target'].value_counts(normalize=True)"
   ]
  },
  {
   "cell_type": "code",
   "execution_count": 22,
   "metadata": {},
   "outputs": [],
   "source": [
    "# Define our X and y\n",
    "X = df.drop(columns=['target'])\n",
    "y = df['target']\n",
    "\n",
    "# and train test split\n",
    "X_train, X_test, y_train, y_test = train_test_split(\n",
    "    X, y, test_size=0.25, random_state=42)"
   ]
  },
  {
   "cell_type": "markdown",
   "metadata": {},
   "source": [
    "### Baseline Model\n",
    "\n",
    "Let's find out how hard our problem is, by throwing things at it and seeing what sticks!\n",
    "\n",
    "Biggest thing to think about - what types of columns need to be treated differently?\n",
    "\n",
    "Reference: https://scikit-learn.org/stable/auto_examples/compose/plot_column_transformer_mixed_types.html"
   ]
  },
  {
   "cell_type": "code",
   "execution_count": 23,
   "metadata": {},
   "outputs": [],
   "source": [
    "# Set up how to treat our columns\n",
    "\n",
    "# Want to grab numeric columns\n",
    "# Then grab columns with fewer than 10 unique values\n",
    "# Then grab columns with more than 10, since we won't OHE those\n",
    "\n",
    "num_cols = []\n",
    "ohe_cols = []\n",
    "freq_cols = []\n",
    "    \n",
    "for c in X.columns:\n",
    "    if df[c].dtype in ['float64', 'int64']:\n",
    "        num_cols.append(c)\n",
    "    elif len(X[c].unique()) <= 10:\n",
    "        ohe_cols.append(c)\n",
    "    else:\n",
    "        freq_cols.append(c)"
   ]
  },
  {
   "cell_type": "code",
   "execution_count": 24,
   "metadata": {},
   "outputs": [
    {
     "name": "stdout",
     "output_type": "stream",
     "text": [
      "Numeric: ['bin_0', 'bin_1', 'bin_2', 'ord_0', 'day', 'month']\n",
      "To OHE: ['bin_3', 'bin_4', 'nom_0', 'nom_1', 'nom_2', 'nom_3', 'nom_4', 'ord_1', 'ord_2']\n",
      "To Frequency Encode: ['nom_5', 'nom_6', 'nom_7', 'nom_8', 'nom_9', 'ord_3', 'ord_4', 'ord_5']\n"
     ]
    }
   ],
   "source": [
    "# Check our work\n",
    "print(f\"Numeric: {num_cols}\")\n",
    "print(f\"To OHE: {ohe_cols}\")\n",
    "print(f\"To Frequency Encode: {freq_cols}\")"
   ]
  },
  {
   "cell_type": "code",
   "execution_count": 25,
   "metadata": {},
   "outputs": [],
   "source": [
    "# Now, set up the preprocessing steps for each type of col\n",
    "num_transformer = Pipeline(steps=[\n",
    "    ('num_imputer', SimpleImputer(strategy='median')),\n",
    "    ('scaler', MinMaxScaler())])\n",
    "\n",
    "ohe_transformer = Pipeline(steps=[\n",
    "    ('cat_imputer', SimpleImputer(strategy='constant', fill_value='Unknown')),\n",
    "    ('ohe', OneHotEncoder(handle_unknown='ignore'))])\n",
    "\n",
    "freq_transformer = Pipeline(steps=[\n",
    "    ('freq_imputer', SimpleImputer(strategy='constant', fill_value='Unknown')),\n",
    "    ('freq_enc', ce.CountEncoder(normalize=True,\n",
    "                                 handle_unknown=0,\n",
    "                                 min_group_size=0.001,\n",
    "                                 min_group_name='Other'))])"
   ]
  },
  {
   "cell_type": "code",
<<<<<<< HEAD
   "execution_count": 26,
=======
   "execution_count": 16,
>>>>>>> 98b62e330885dacab73471aaa7205b691b913dcb
   "metadata": {},
   "outputs": [],
   "source": [
    "# Put together our preprocessor using a Column Transformer\n",
    "preprocessor = ColumnTransformer(\n",
    "    transformers=[\n",
    "        ('num', num_transformer, num_cols),\n",
    "        ('cat_ohe', ohe_transformer, ohe_cols), \n",
    "        ('cat_freq', freq_transformer, freq_cols)])"
   ]
  },
  {
   "cell_type": "code",
<<<<<<< HEAD
   "execution_count": 27,
=======
   "execution_count": 17,
>>>>>>> 98b62e330885dacab73471aaa7205b691b913dcb
   "metadata": {},
   "outputs": [
    {
     "data": {
      "text/plain": [
       "(450000, 23)"
      ]
     },
<<<<<<< HEAD
     "execution_count": 27,
=======
     "execution_count": 17,
>>>>>>> 98b62e330885dacab73471aaa7205b691b913dcb
     "metadata": {},
     "output_type": "execute_result"
    }
   ],
   "source": [
    "X_train.shape"
   ]
  },
  {
   "cell_type": "code",
<<<<<<< HEAD
   "execution_count": 28,
=======
   "execution_count": 18,
>>>>>>> 98b62e330885dacab73471aaa7205b691b913dcb
   "metadata": {},
   "outputs": [
    {
     "data": {
      "text/plain": [
       "(450000, 63)"
      ]
     },
<<<<<<< HEAD
     "execution_count": 28,
=======
     "execution_count": 18,
>>>>>>> 98b62e330885dacab73471aaa7205b691b913dcb
     "metadata": {},
     "output_type": "execute_result"
    }
   ],
   "source": [
    "# Just out of curiosity, let's see what this looks like \n",
    "preprocessor.fit_transform(X_train).shape"
   ]
  },
  {
   "cell_type": "code",
<<<<<<< HEAD
   "execution_count": 29,
=======
   "execution_count": 19,
>>>>>>> 98b62e330885dacab73471aaa7205b691b913dcb
   "metadata": {},
   "outputs": [
    {
     "name": "stderr",
     "output_type": "stream",
     "text": [
<<<<<<< HEAD
      "/opt/anaconda3/envs/learn-env/lib/python3.6/site-packages/sklearn/linear_model/_logistic.py:765: ConvergenceWarning: lbfgs failed to converge (status=1):\n",
=======
      "/opt/anaconda3/envs/learn-env/lib/python3.8/site-packages/sklearn/linear_model/_logistic.py:762: ConvergenceWarning: lbfgs failed to converge (status=1):\n",
>>>>>>> 98b62e330885dacab73471aaa7205b691b913dcb
      "STOP: TOTAL NO. of ITERATIONS REACHED LIMIT.\n",
      "\n",
      "Increase the number of iterations (max_iter) or scale the data as shown in:\n",
      "    https://scikit-learn.org/stable/modules/preprocessing.html\n",
      "Please also refer to the documentation for alternative solver options:\n",
      "    https://scikit-learn.org/stable/modules/linear_model.html#logistic-regression\n",
      "  extra_warning_msg=_LOGISTIC_SOLVER_CONVERGENCE_MSG)\n"
     ]
    },
    {
     "data": {
      "text/plain": [
       "Pipeline(steps=[('preprocessor',\n",
       "                 ColumnTransformer(transformers=[('num',\n",
       "                                                  Pipeline(steps=[('num_imputer',\n",
       "                                                                   SimpleImputer(strategy='median')),\n",
       "                                                                  ('scaler',\n",
       "                                                                   MinMaxScaler())]),\n",
       "                                                  ['bin_0', 'bin_1', 'bin_2',\n",
       "                                                   'ord_0', 'day', 'month']),\n",
       "                                                 ('cat_ohe',\n",
       "                                                  Pipeline(steps=[('cat_imputer',\n",
       "                                                                   SimpleImputer(fill_value='Unknown',\n",
       "                                                                                 strategy='constant')),\n",
       "                                                                  ('ohe',\n",
       "                                                                   OneHotEncoder(handle_unknown='i...\n",
       "                                                  Pipeline(steps=[('freq_imputer',\n",
       "                                                                   SimpleImputer(fill_value='Unknown',\n",
       "                                                                                 strategy='constant')),\n",
       "                                                                  ('freq_enc',\n",
       "                                                                   CountEncoder(combine_min_nan_groups=True,\n",
       "                                                                                handle_unknown=0,\n",
       "                                                                                min_group_name='Other',\n",
       "                                                                                min_group_size=0.001,\n",
       "                                                                                normalize=True))]),\n",
       "                                                  ['nom_5', 'nom_6', 'nom_7',\n",
       "                                                   'nom_8', 'nom_9', 'ord_3',\n",
       "                                                   'ord_4', 'ord_5'])])),\n",
       "                ('classifier', LogisticRegression(class_weight='balanced'))])"
      ]
     },
<<<<<<< HEAD
     "execution_count": 29,
=======
     "execution_count": 19,
>>>>>>> 98b62e330885dacab73471aaa7205b691b913dcb
     "metadata": {},
     "output_type": "execute_result"
    }
   ],
   "source": [
    "# Append classifier to preprocessing pipeline.\n",
    "# Now we have a full prediction pipeline.\n",
    "clf_logreg = Pipeline(steps=[('preprocessor', preprocessor),\n",
    "                             ('classifier', LogisticRegression(class_weight='balanced'))])\n",
    "\n",
    "clf_logreg.fit(X_train, y_train)"
   ]
  },
  {
   "cell_type": "code",
<<<<<<< HEAD
   "execution_count": 30,
=======
   "execution_count": 20,
>>>>>>> 98b62e330885dacab73471aaa7205b691b913dcb
   "metadata": {},
   "outputs": [
    {
     "name": "stdout",
     "output_type": "stream",
     "text": [
      "<class 'numpy.ndarray'>\n",
      "Train Scores\n",
      "------------\n",
<<<<<<< HEAD
      "Accuracy: 0.6314644444444445\n",
      "F1 Score: 0.3905839467021398\n",
      "ROC-AUC: 0.6309245269854754\n",
      "--------------------\n",
      "Test Scores\n",
      "-----------\n",
      "Accuracy: 0.6310266666666666\n",
      "F1 Score: 0.3909052891070367\n",
      "ROC-AUC: 0.6325098183760973\n"
=======
      "Accuracy: 0.6315244444444444\n",
      "F1 Score: 0.39058686895416195\n",
      "ROC-AUC: 0.6821437248787638\n",
      "--------------------\n",
      "Test Scores\n",
      "-----------\n",
      "Accuracy: 0.6310866666666667\n",
      "F1 Score: 0.3909037875202254\n",
      "ROC-AUC: 0.6824807770421828\n"
>>>>>>> 98b62e330885dacab73471aaa7205b691b913dcb
     ]
    },
    {
     "data": {
      "image/png": "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\n",
      "text/plain": [
       "<Figure size 432x288 with 2 Axes>"
      ]
     },
     "metadata": {
      "needs_background": "light"
     },
     "output_type": "display_data"
    }
   ],
   "source": [
    "# Evaluate\n",
    "evaluate(clf_logreg, X_train, X_test, y_train, y_test)"
   ]
  },
  {
   "cell_type": "markdown",
   "metadata": {},
   "source": [
    "### Try Another Model Type"
   ]
  },
  {
   "cell_type": "code",
<<<<<<< HEAD
   "execution_count": 31,
=======
   "execution_count": 21,
>>>>>>> 98b62e330885dacab73471aaa7205b691b913dcb
   "metadata": {},
   "outputs": [
    {
     "data": {
      "text/plain": [
       "Pipeline(steps=[('preprocessor',\n",
       "                 ColumnTransformer(transformers=[('num',\n",
       "                                                  Pipeline(steps=[('num_imputer',\n",
       "                                                                   SimpleImputer(strategy='median')),\n",
       "                                                                  ('scaler',\n",
       "                                                                   MinMaxScaler())]),\n",
       "                                                  ['bin_0', 'bin_1', 'bin_2',\n",
       "                                                   'ord_0', 'day', 'month']),\n",
       "                                                 ('cat_ohe',\n",
       "                                                  Pipeline(steps=[('cat_imputer',\n",
       "                                                                   SimpleImputer(fill_value='Unknown',\n",
       "                                                                                 strategy='constant')),\n",
       "                                                                  ('ohe',\n",
       "                                                                   OneHotEncoder(handle_unknown='i...\n",
       "                                                   'nom_4', 'ord_1', 'ord_2']),\n",
       "                                                 ('cat_freq',\n",
       "                                                  Pipeline(steps=[('freq_imputer',\n",
       "                                                                   SimpleImputer(fill_value='Unknown',\n",
       "                                                                                 strategy='constant')),\n",
       "                                                                  ('freq_enc',\n",
       "                                                                   CountEncoder(combine_min_nan_groups=True,\n",
       "                                                                                handle_unknown=0,\n",
       "                                                                                min_group_name='Other',\n",
       "                                                                                min_group_size=0.001,\n",
       "                                                                                normalize=True))]),\n",
       "                                                  ['nom_5', 'nom_6', 'nom_7',\n",
       "                                                   'nom_8', 'nom_9', 'ord_3',\n",
       "                                                   'ord_4', 'ord_5'])])),\n",
       "                ('classifier', DecisionTreeClassifier())])"
      ]
     },
<<<<<<< HEAD
     "execution_count": 31,
=======
     "execution_count": 21,
>>>>>>> 98b62e330885dacab73471aaa7205b691b913dcb
     "metadata": {},
     "output_type": "execute_result"
    }
   ],
   "source": [
    "# Time for a new pipeline!\n",
    "\n",
    "clf_dt = Pipeline(steps=[('preprocessor', preprocessor),\n",
    "                         ('classifier', DecisionTreeClassifier())])\n",
    "\n",
    "clf_dt.fit(X_train, y_train)"
   ]
  },
  {
   "cell_type": "code",
<<<<<<< HEAD
   "execution_count": 32,
=======
   "execution_count": 22,
>>>>>>> 98b62e330885dacab73471aaa7205b691b913dcb
   "metadata": {},
   "outputs": [
    {
     "name": "stdout",
     "output_type": "stream",
     "text": [
      "<class 'numpy.ndarray'>\n",
      "Train Scores\n",
      "------------\n",
      "Accuracy: 1.0\n",
      "F1 Score: 1.0\n",
      "ROC-AUC: 1.0\n",
      "--------------------\n",
      "Test Scores\n",
      "-----------\n",
<<<<<<< HEAD
      "Accuracy: 0.7120333333333333\n",
      "F1 Score: 0.2697256082097753\n",
      "ROC-AUC: 0.5475253100072504\n"
=======
      "Accuracy: 0.7125066666666666\n",
      "F1 Score: 0.27051897963326343\n",
      "ROC-AUC: 0.5480779804112529\n"
>>>>>>> 98b62e330885dacab73471aaa7205b691b913dcb
     ]
    },
    {
     "data": {
<<<<<<< HEAD
      "image/png": "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\n",
=======
      "image/png": "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\n",
>>>>>>> 98b62e330885dacab73471aaa7205b691b913dcb
      "text/plain": [
       "<Figure size 432x288 with 2 Axes>"
      ]
     },
     "metadata": {
      "needs_background": "light"
     },
     "output_type": "display_data"
    }
   ],
   "source": [
    "# Evaluate\n",
    "evaluate(clf_dt, X_train, X_test, y_train, y_test, use_decision_function='no')"
   ]
  },
  {
   "cell_type": "code",
<<<<<<< HEAD
   "execution_count": 33,
=======
   "execution_count": 23,
>>>>>>> 98b62e330885dacab73471aaa7205b691b913dcb
   "metadata": {},
   "outputs": [
    {
     "name": "stderr",
     "output_type": "stream",
     "text": [
<<<<<<< HEAD
      "/opt/anaconda3/envs/learn-env/lib/python3.6/site-packages/sklearn/linear_model/_logistic.py:765: ConvergenceWarning: lbfgs failed to converge (status=1):\n",
=======
      "/opt/anaconda3/envs/learn-env/lib/python3.8/site-packages/sklearn/linear_model/_logistic.py:762: ConvergenceWarning: lbfgs failed to converge (status=1):\n",
>>>>>>> 98b62e330885dacab73471aaa7205b691b913dcb
      "STOP: TOTAL NO. of ITERATIONS REACHED LIMIT.\n",
      "\n",
      "Increase the number of iterations (max_iter) or scale the data as shown in:\n",
      "    https://scikit-learn.org/stable/modules/preprocessing.html\n",
      "Please also refer to the documentation for alternative solver options:\n",
      "    https://scikit-learn.org/stable/modules/linear_model.html#logistic-regression\n",
      "  extra_warning_msg=_LOGISTIC_SOLVER_CONVERGENCE_MSG)\n"
     ]
    },
    {
     "data": {
      "text/plain": [
       "Pipeline(steps=[('preprocessor2',\n",
       "                 ColumnTransformer(transformers=[('num2',\n",
       "                                                  Pipeline(steps=[('num_imputer',\n",
       "                                                                   SimpleImputer(strategy='median')),\n",
       "                                                                  ('scaler2',\n",
       "                                                                   StandardScaler())]),\n",
       "                                                  ['bin_0', 'bin_1', 'bin_2',\n",
       "                                                   'ord_0', 'day', 'month']),\n",
       "                                                 ('cat_ohe',\n",
       "                                                  Pipeline(steps=[('cat_imputer',\n",
       "                                                                   SimpleImputer(fill_value='Unknown',\n",
       "                                                                                 strategy='constant')),\n",
       "                                                                  ('ohe',\n",
       "                                                                   OneHotEncoder(handle_unkno...\n",
       "                                                  Pipeline(steps=[('freq_imputer',\n",
       "                                                                   SimpleImputer(fill_value='Unknown',\n",
       "                                                                                 strategy='constant')),\n",
       "                                                                  ('freq_enc',\n",
       "                                                                   CountEncoder(combine_min_nan_groups=True,\n",
       "                                                                                handle_unknown=0,\n",
       "                                                                                min_group_name='Other',\n",
       "                                                                                min_group_size=0.001,\n",
       "                                                                                normalize=True))]),\n",
       "                                                  ['nom_5', 'nom_6', 'nom_7',\n",
       "                                                   'nom_8', 'nom_9', 'ord_3',\n",
       "                                                   'ord_4', 'ord_5'])])),\n",
       "                ('classifier', LogisticRegression(class_weight='balanced'))])"
      ]
     },
<<<<<<< HEAD
     "execution_count": 33,
=======
     "execution_count": 23,
>>>>>>> 98b62e330885dacab73471aaa7205b691b913dcb
     "metadata": {},
     "output_type": "execute_result"
    }
   ],
   "source": [
    "num_transformer2 = Pipeline(steps=[\n",
    "    ('num_imputer', SimpleImputer(strategy='median')),\n",
    "    ('scaler2', StandardScaler())])\n",
    "\n",
    "preprocessor2 = ColumnTransformer(\n",
    "    transformers=[\n",
    "        ('num2', num_transformer2, num_cols),\n",
    "        ('cat_ohe', ohe_transformer, ohe_cols), \n",
    "        ('cat_freq', freq_transformer, freq_cols)])\n",
    "\n",
    "clf_lr2 = Pipeline(steps=[('preprocessor2', preprocessor2),\n",
    "                         ('classifier', LogisticRegression(class_weight='balanced'))])\n",
    "\n",
    "clf_lr2.fit(X_train, y_train)"
   ]
  },
  {
   "cell_type": "code",
<<<<<<< HEAD
   "execution_count": 34,
=======
   "execution_count": 24,
>>>>>>> 98b62e330885dacab73471aaa7205b691b913dcb
   "metadata": {
    "scrolled": false
   },
   "outputs": [
    {
     "name": "stdout",
     "output_type": "stream",
     "text": [
      "<class 'numpy.ndarray'>\n",
      "Train Scores\n",
      "------------\n",
<<<<<<< HEAD
      "Accuracy: 0.6315711111111111\n",
      "F1 Score: 0.39084987011841815\n",
      "ROC-AUC: 0.6311908177942728\n",
=======
      "Accuracy: 0.6315755555555556\n",
      "F1 Score: 0.39086617066225776\n",
      "ROC-AUC: 0.6820773113411083\n",
>>>>>>> 98b62e330885dacab73471aaa7205b691b913dcb
      "--------------------\n",
      "Test Scores\n",
      "-----------\n",
      "Accuracy: 0.6309666666666667\n",
      "F1 Score: 0.3910943910943911\n",
      "ROC-AUC: 0.6824326978448585\n"
     ]
    },
    {
     "data": {
      "image/png": "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\n",
      "text/plain": [
       "<Figure size 432x288 with 2 Axes>"
      ]
     },
     "metadata": {
      "needs_background": "light"
     },
     "output_type": "display_data"
    }
   ],
   "source": [
    "evaluate(clf_lr2, X_train, X_test, y_train, y_test)"
   ]
  },
  {
   "cell_type": "code",
<<<<<<< HEAD
   "execution_count": 35,
=======
   "execution_count": 25,
>>>>>>> 98b62e330885dacab73471aaa7205b691b913dcb
   "metadata": {
    "scrolled": true
   },
   "outputs": [],
   "source": [
    "scores = cross_val_score(clf_dt, X_train, y_train, cv=5, scoring='f1')"
   ]
  },
  {
   "cell_type": "code",
<<<<<<< HEAD
   "execution_count": 36,
=======
   "execution_count": 26,
>>>>>>> 98b62e330885dacab73471aaa7205b691b913dcb
   "metadata": {},
   "outputs": [
    {
     "name": "stdout",
     "output_type": "stream",
     "text": [
<<<<<<< HEAD
      "Average F1 Score: 0.2690263754294103 +/- 0.0024607941013592978\n"
=======
      "Average F1 Score: 0.26926580282577534 +/- 0.003427063705884352\n"
>>>>>>> 98b62e330885dacab73471aaa7205b691b913dcb
     ]
    }
   ],
   "source": [
    "print(f\"Average F1 Score: {scores.mean()} +/- {scores.std()}\")"
   ]
  },
  {
   "cell_type": "markdown",
   "metadata": {},
   "source": [
    "Adding one more piece, for the curious...\n",
    "\n",
    "https://scikit-learn.org/stable/tutorial/statistical_inference/putting_together.html"
   ]
  },
  {
   "cell_type": "code",
<<<<<<< HEAD
   "execution_count": 37,
=======
   "execution_count": 27,
>>>>>>> 98b62e330885dacab73471aaa7205b691b913dcb
   "metadata": {},
   "outputs": [],
   "source": [
    "clf_dt = Pipeline(steps=[('preprocessor', preprocessor),\n",
    "                         ('classifier', DecisionTreeClassifier(class_weight='balanced'))])"
   ]
  },
  {
   "cell_type": "code",
<<<<<<< HEAD
   "execution_count": 38,
=======
   "execution_count": 28,
>>>>>>> 98b62e330885dacab73471aaa7205b691b913dcb
   "metadata": {},
   "outputs": [],
   "source": [
    "# Parameters of pipelines can be set using ‘__’\n",
    "# First part should be the name given to what piece you're adjusting,\n",
    "# then second part after __ should be the name of the parameter\n",
    "param_grid = {'classifier__max_depth':[10, 20, None],\n",
    "              'classifier__min_samples_split':[2, 10]}"
   ]
  },
  {
   "cell_type": "code",
<<<<<<< HEAD
   "execution_count": 39,
=======
   "execution_count": 29,
>>>>>>> 98b62e330885dacab73471aaa7205b691b913dcb
   "metadata": {},
   "outputs": [],
   "source": [
    "search = GridSearchCV(clf_dt, param_grid, n_jobs=-1, cv=3)"
   ]
  },
  {
   "cell_type": "code",
<<<<<<< HEAD
   "execution_count": 40,
=======
   "execution_count": 30,
>>>>>>> 98b62e330885dacab73471aaa7205b691b913dcb
   "metadata": {},
   "outputs": [
    {
     "data": {
      "text/plain": [
       "GridSearchCV(cv=3,\n",
       "             estimator=Pipeline(steps=[('preprocessor',\n",
       "                                        ColumnTransformer(transformers=[('num',\n",
       "                                                                         Pipeline(steps=[('num_imputer',\n",
       "                                                                                          SimpleImputer(strategy='median')),\n",
       "                                                                                         ('scaler',\n",
       "                                                                                          MinMaxScaler())]),\n",
       "                                                                         ['bin_0',\n",
       "                                                                          'bin_1',\n",
       "                                                                          'bin_2',\n",
       "                                                                          'ord_0',\n",
       "                                                                          'day',\n",
       "                                                                          'month']),\n",
       "                                                                        ('cat_ohe',\n",
       "                                                                         Pipeline(steps=[('cat_imputer',\n",
       "                                                                                          SimpleImputer(fill_value='Unknown',\n",
       "                                                                                                        strategy='constant')),\n",
       "                                                                                         ('ohe',\n",
       "                                                                                          One...\n",
       "                                                                                          CountEncoder(combine_min_nan_groups=True,\n",
       "                                                                                                       handle_unknown=0,\n",
       "                                                                                                       min_group_name='Other',\n",
       "                                                                                                       min_group_size=0.001,\n",
       "                                                                                                       normalize=True))]),\n",
       "                                                                         ['nom_5',\n",
       "                                                                          'nom_6',\n",
       "                                                                          'nom_7',\n",
       "                                                                          'nom_8',\n",
       "                                                                          'nom_9',\n",
       "                                                                          'ord_3',\n",
       "                                                                          'ord_4',\n",
       "                                                                          'ord_5'])])),\n",
       "                                       ('classifier',\n",
       "                                        DecisionTreeClassifier(class_weight='balanced'))]),\n",
       "             n_jobs=-1,\n",
       "             param_grid={'classifier__max_depth': [10, 20, None],\n",
       "                         'classifier__min_samples_split': [2, 10]})"
      ]
     },
<<<<<<< HEAD
     "execution_count": 40,
=======
     "execution_count": 30,
>>>>>>> 98b62e330885dacab73471aaa7205b691b913dcb
     "metadata": {},
     "output_type": "execute_result"
    }
   ],
   "source": [
    "search.fit(X_train, y_train)"
   ]
  },
  {
   "cell_type": "code",
<<<<<<< HEAD
   "execution_count": 41,
=======
   "execution_count": 31,
>>>>>>> 98b62e330885dacab73471aaa7205b691b913dcb
   "metadata": {},
   "outputs": [
    {
     "name": "stdout",
     "output_type": "stream",
     "text": [
      "Best parameter's score: 0.721):\n",
      "{'classifier__max_depth': None, 'classifier__min_samples_split': 2}\n"
     ]
    }
   ],
   "source": [
    "print(f\"Best parameter's score: {search.best_score_:0.3f}):\")\n",
    "print(search.best_params_)"
   ]
  },
  {
   "cell_type": "code",
<<<<<<< HEAD
   "execution_count": 42,
=======
   "execution_count": 33,
>>>>>>> 98b62e330885dacab73471aaa7205b691b913dcb
   "metadata": {},
   "outputs": [
    {
     "name": "stdout",
     "output_type": "stream",
     "text": [
      "<class 'numpy.ndarray'>\n",
      "Train Scores\n",
      "------------\n",
      "Accuracy: 1.0\n",
      "F1 Score: 1.0\n",
      "ROC-AUC: 1.0\n",
      "--------------------\n",
      "Test Scores\n",
      "-----------\n",
<<<<<<< HEAD
      "Accuracy: 0.7223933333333333\n",
      "F1 Score: 0.26028102961291805\n",
      "ROC-AUC: 0.5449244650941535\n"
=======
      "Accuracy: 0.7233133333333334\n",
      "F1 Score: 0.2612364050623899\n",
      "ROC-AUC: 0.5456552333879795\n"
>>>>>>> 98b62e330885dacab73471aaa7205b691b913dcb
     ]
    },
    {
     "data": {
<<<<<<< HEAD
      "image/png": "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\n",
=======
      "image/png": "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\n",
>>>>>>> 98b62e330885dacab73471aaa7205b691b913dcb
      "text/plain": [
       "<Figure size 432x288 with 2 Axes>"
      ]
     },
     "metadata": {
      "needs_background": "light"
     },
     "output_type": "display_data"
    }
   ],
   "source": [
    "evaluate(search.best_estimator_, X_train, X_test, y_train, y_test, use_decision_function='no')"
   ]
  },
  {
   "cell_type": "markdown",
   "metadata": {},
   "source": [
    "## Discussion Time!\n",
    "\n",
    "What does it mean to decide between model types? What do we think best represents this data? What else might I want to explore or understand before deciding that?\n",
    "\n",
    "- \n"
   ]
  },
  {
   "cell_type": "markdown",
   "metadata": {},
   "source": [
    "## Resources\n",
    "\n",
    "Check out Aurélien Geron's notebook of an [end-to-end ml project](https://github.com/ageron/handson-ml2/blob/master/02_end_to_end_machine_learning_project.ipynb) on his GitHub repo based around his book [_Hands-On Machine Learning with Scikit-Learn and TensorFlow: Concepts, Tools, and Techniques to Build Intelligent Systems (2nd ed)_](https://www.oreilly.com/library/view/hands-on-machine-learning/9781491962282/)"
   ]
  }
 ],
 "metadata": {
  "kernelspec": {
   "display_name": "learn-env",
   "language": "python",
   "name": "learn-env"
  },
  "language_info": {
   "codemirror_mode": {
    "name": "ipython",
    "version": 3
   },
   "file_extension": ".py",
   "mimetype": "text/x-python",
   "name": "python",
   "nbconvert_exporter": "python",
   "pygments_lexer": "ipython3",
   "version": "3.6.13"
  }
 },
 "nbformat": 4,
 "nbformat_minor": 4
}
